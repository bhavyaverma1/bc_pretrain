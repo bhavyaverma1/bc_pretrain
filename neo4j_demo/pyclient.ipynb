{
 "cells": [
  {
   "cell_type": "code",
   "execution_count": 1,
   "id": "e384c263-ccbb-498b-aab7-c61f02e38f4a",
   "metadata": {},
   "outputs": [],
   "source": [
    "import pandas as pd\n",
    "import numpy as np\n",
    "from py2neo import Graph, Node, Relationship"
   ]
  },
  {
   "cell_type": "code",
   "execution_count": 2,
   "id": "fa8d4643-6aab-488f-b3b1-1abc15a36402",
   "metadata": {},
   "outputs": [],
   "source": [
    "url=\"bolt://44.201.32.150:7687\"\n",
    "pwd=\"landings-questions-controls\"\n",
    "\n",
    "graph=Graph(url, auth=('neo4j',pwd))"
   ]
  },
  {
   "cell_type": "code",
   "execution_count": 3,
   "id": "53eb1f5a-6e91-43ad-9570-e39714c0a613",
   "metadata": {},
   "outputs": [
    {
     "name": "stdout",
     "output_type": "stream",
     "text": [
      " name                                               | city            \n",
      "----------------------------------------------------|-----------------\n",
      " Hartsfield - Jackson Atlanta International Airport | Atlanta         \n",
      " Anchorage Ted Stevens                              | Anchorage       \n",
      " Austin Bergstrom International Airport             | Austin          \n",
      " Nashville International Airport                    | Nashville       \n",
      " Boston Logan                                       | Boston          \n",
      " Baltimore/Washington International Airport         | Baltimore       \n",
      " Ronald Reagan Washington National Airport          | Washington D.C. \n",
      " Dallas/Fort Worth International Airport            | Dallas          \n",
      " Fort Lauderdale/Hollywood International Airport    | Fort Lauderdale \n",
      " Washington Dulles International Airport            | Washington D.C. \n",
      "\n"
     ]
    }
   ],
   "source": [
    "query=\"MATCH (a:Airport) RETURN a.descr as name, a.city as city LIMIT 10\"\n",
    "result=graph.run(query).to_table()\n",
    "print(result)"
   ]
  },
  {
   "cell_type": "code",
   "execution_count": 4,
   "id": "7d82faba-6d98-4172-ae93-46acd3184b44",
   "metadata": {
    "tags": []
   },
   "outputs": [
    {
     "data": {
      "text/plain": [
       "py2neo.integration.Table"
      ]
     },
     "execution_count": 4,
     "metadata": {},
     "output_type": "execute_result"
    }
   ],
   "source": [
    "type(result)"
   ]
  },
  {
   "cell_type": "code",
   "execution_count": 5,
   "id": "021c50d2-2361-4dd7-9d68-0c3df4e36ff0",
   "metadata": {},
   "outputs": [
    {
     "name": "stdout",
     "output_type": "stream",
     "text": [
      " num_of_countries \n",
      "------------------\n",
      "              232 \n",
      "\n"
     ]
    }
   ],
   "source": [
    "query2=\"MATCH (c:Country) RETURN count(c) as num_of_countries\"\n",
    "result=graph.run(query2)\n",
    "print(result)"
   ]
  },
  {
   "cell_type": "code",
   "execution_count": 6,
   "id": "9bff6f73-2548-4b03-b8f4-7e6471fcbac3",
   "metadata": {},
   "outputs": [
    {
     "name": "stdout",
     "output_type": "stream",
     "text": [
      " num_of_airports \n",
      "-----------------\n",
      "            3503 \n",
      "\n"
     ]
    }
   ],
   "source": [
    "query3=\"MATCH (a:Airport) RETURN count(a) as num_of_airports\"\n",
    "result=graph.run(query3)\n",
    "print(result)"
   ]
  },
  {
   "cell_type": "code",
   "execution_count": 7,
   "id": "0ae85116-872a-4946-bf0f-c22029d46ac8",
   "metadata": {},
   "outputs": [
    {
     "name": "stdout",
     "output_type": "stream",
     "text": [
      " a.descr              | a.city | a.longest \n",
      "----------------------|--------|-----------\n",
      " Qamdo Bangda Airport | Bangda |     18045 \n",
      "\n"
     ]
    }
   ],
   "source": [
    "result_value=list(graph.run(\"MATCH (a:Airport) RETURN MAX(a.longest)\"))[0]\n",
    "query4=\"MATCH (a:Airport) WHERE a.longest=\"+str(result_value)+\" RETURN a.descr, a.city, a.longest\"\n",
    "result=graph.run(query4)\n",
    "print(result)"
   ]
  },
  {
   "cell_type": "code",
   "execution_count": 9,
   "id": "75ea31af-f36a-412e-a0ea-0e79b9d22794",
   "metadata": {},
   "outputs": [
    {
     "name": "stdout",
     "output_type": "stream",
     "text": [
      " num_of_airports \n",
      "-----------------\n",
      "            3504 \n",
      "\n",
      "(No data)\n"
     ]
    }
   ],
   "source": [
    "query5=\"CREATE (a:Airport {name:'Sanganer Airport', city:'Jaipur'})\"\n",
    "result=graph.run(query5)\n",
    "result_new=graph.run(query3)\n",
    "print(result_new)"
   ]
  },
  {
   "cell_type": "code",
   "execution_count": 10,
   "id": "de6ca9f0-acbc-459a-aaaa-6af9679807f6",
   "metadata": {},
   "outputs": [
    {
     "name": "stdout",
     "output_type": "stream",
     "text": [
      "(No data)\n"
     ]
    }
   ],
   "source": [
    "query6=\"MATCH (n) DETACH DELETE(n)\"\n",
    "result=graph.run(query6)\n",
    "\n",
    "print(result)"
   ]
  },
  {
   "cell_type": "code",
   "execution_count": 11,
   "id": "c7c5592e-ed17-4591-bbf1-1fa6c5eebfe1",
   "metadata": {},
   "outputs": [
    {
     "name": "stdout",
     "output_type": "stream",
     "text": [
      "(No data)\n"
     ]
    }
   ],
   "source": [
    "result_new=graph.run(query3)\n",
    "print(result)"
   ]
  },
  {
   "cell_type": "code",
   "execution_count": null,
   "id": "49ddca29-c114-4129-8556-f37032146348",
   "metadata": {},
   "outputs": [],
   "source": []
  }
 ],
 "metadata": {
  "kernelspec": {
   "display_name": "Python 3 (ipykernel)",
   "language": "python",
   "name": "python3"
  },
  "language_info": {
   "codemirror_mode": {
    "name": "ipython",
    "version": 3
   },
   "file_extension": ".py",
   "mimetype": "text/x-python",
   "name": "python",
   "nbconvert_exporter": "python",
   "pygments_lexer": "ipython3",
   "version": "3.9.12"
  }
 },
 "nbformat": 4,
 "nbformat_minor": 5
}
