{
 "cells": [
  {
   "cell_type": "code",
   "execution_count": 1,
   "id": "8ba68b89",
   "metadata": {},
   "outputs": [],
   "source": [
    "from neo4j import GraphDatabase"
   ]
  },
  {
   "cell_type": "code",
   "execution_count": 2,
   "id": "61f93c6f",
   "metadata": {},
   "outputs": [],
   "source": [
    "uri=\"bolt://44.201.32.150:7687\"\n",
    "pwd=\"landings-questions-controls\"\n",
    "\n",
    "driver=GraphDatabase.driver(uri, auth=(\"neo4j\", pwd))"
   ]
  },
  {
   "cell_type": "code",
   "execution_count": 3,
   "id": "819667be",
   "metadata": {},
   "outputs": [],
   "source": [
    "query=\"MATCH (n) RETURN COUNT(n)\""
   ]
  },
  {
   "cell_type": "code",
   "execution_count": 4,
   "id": "a5828028",
   "metadata": {
    "tags": []
   },
   "outputs": [
    {
     "name": "stdout",
     "output_type": "stream",
     "text": [
      "8627\n"
     ]
    }
   ],
   "source": [
    "with driver.session() as session:\n",
    "    result=session.run(query)\n",
    "    print(result.single()[\"COUNT(n)\"])"
   ]
  },
  {
   "cell_type": "code",
   "execution_count": null,
   "id": "1237ab13",
   "metadata": {},
   "outputs": [],
   "source": []
  }
 ],
 "metadata": {
  "kernelspec": {
   "display_name": "Python 3 (ipykernel)",
   "language": "python",
   "name": "python3"
  },
  "language_info": {
   "codemirror_mode": {
    "name": "ipython",
    "version": 3
   },
   "file_extension": ".py",
   "mimetype": "text/x-python",
   "name": "python",
   "nbconvert_exporter": "python",
   "pygments_lexer": "ipython3",
   "version": "3.9.12"
  }
 },
 "nbformat": 4,
 "nbformat_minor": 5
}
